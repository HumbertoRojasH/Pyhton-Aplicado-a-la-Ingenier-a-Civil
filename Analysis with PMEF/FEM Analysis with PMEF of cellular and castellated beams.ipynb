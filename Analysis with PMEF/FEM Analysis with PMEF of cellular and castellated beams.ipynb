{
 "cells": [
  {
   "cell_type": "markdown",
   "metadata": {},
   "source": [
    "# Analysis of Beams with PMEF"
   ]
  },
  {
   "cell_type": "markdown",
   "metadata": {},
   "source": [
    "### Install necessary packages"
   ]
  },
  {
   "cell_type": "code",
   "execution_count": 9,
   "metadata": {},
   "outputs": [],
   "source": [
    "import sys\n",
    "!{sys.executable} -m pip install -q -r requirements_app.txt"
   ]
  },
  {
   "cell_type": "code",
   "execution_count": 6,
   "metadata": {},
   "outputs": [
    {
     "data": {
      "application/vnd.jupyter.widget-view+json": {
       "model_id": "32fdc284ad6b453da104a9369e807bb6",
       "version_major": 2,
       "version_minor": 0
      },
      "text/plain": [
       "VBox(children=(HTML(value=\"<h1 align='center'>Profile dimensioning (m)</h2>\"), HBox(children=(Image(value=b'\\x…"
      ]
     },
     "metadata": {},
     "output_type": "display_data"
    }
   ],
   "source": [
    "\n",
    "from ipywidgets import FloatText,VBox,HBox,HTML,Layout,Image\n",
    "style = {'description_width': 'initial'}\n",
    "W = FloatText(\n",
    "    value=0.6,\n",
    "    description='Width (b):',\n",
    "    disabled=False, style = style)\n",
    "H = FloatText(\n",
    "    value=1.0,\n",
    "    description='Height (h):',\n",
    "    disabled=False, style = style)\n",
    "t = FloatText(\n",
    "    value=0.05,\n",
    "    description='Wing thickness(e):',\n",
    "    disabled=False, style = style)\n",
    "ta = FloatText(\n",
    "    value=0.05,\n",
    "    description='Core thickness (a):',\n",
    "    disabled=False, style = style)\n",
    "\n",
    "file = open(\"img/Perfil.png\", \"rb\")\n",
    "image = file.read()\n",
    "img = Image(\n",
    "    value=image,\n",
    "    format='png',\n",
    "    width=300,\n",
    "    height=400,\n",
    ")\n",
    "\n",
    "VBox([HTML(\"<h1 align='center'>Profile dimensioning (m)</h2>\"),\n",
    "\n",
    "HBox([\n",
    "img,\n",
    "VBox([W, H, t, ta],layout=Layout(justify_content=\"space-around\"))],layout=Layout(justify_content=\"center\"))],\n",
    "layout=Layout(justify_content=\"center\",border='solid 4px'))"
   ]
  },
  {
   "cell_type": "code",
   "execution_count": 7,
   "metadata": {},
   "outputs": [
    {
     "data": {
      "application/vnd.jupyter.widget-view+json": {
       "model_id": "3f86722ed7bc4f49b7f22fa5be17b15b",
       "version_major": 2,
       "version_minor": 0
      },
      "text/plain": [
       "VBox(children=(HTML(value=\"<h1 align='center'>Longitudinal dimensioning of the beam (m)</h1>\"), Dropdown(descr…"
      ]
     },
     "metadata": {},
     "output_type": "display_data"
    }
   ],
   "source": [
    "\n",
    "from ipywidgets import FloatText,VBox,HBox,HTML,Layout,Dropdown\n",
    "style = {'description_width': 'initial'}\n",
    "h1 = HTML(value=\"\"\"<h1 align='center'>Longitudinal dimensioning of the beam (m)</h1>\"\"\")\n",
    "type = Dropdown(options=[\"Castellated Beam\",\"Cellular Beam\",],description=\"Type of the beam:\",disabled=False,style=style)\n",
    "\n",
    "L = FloatText(\n",
    "    value=10.0,\n",
    "    description='Beam length (L):',\n",
    "    disabled=False, style = style)\n",
    "n = FloatText(\n",
    "    value=8.0,\n",
    "    description='Number of holes (n):',\n",
    "    disabled=False, style = style)\n",
    "d = FloatText(\n",
    "    value=0.7,\n",
    "    description='Hole diameter (d):',\n",
    "    disabled=False, style = style)\n",
    "h3 = HTML(value=\"<b>Size of Mesh:</b>\")\n",
    "Min_size = FloatText(\n",
    "    value=0.3,\n",
    "    description='Min size:',\n",
    "    disabled=False, style = style)\n",
    "Max_size = FloatText(\n",
    "    value=0.4,\n",
    "    description='Max size:',\n",
    "    disabled=False, style = style)\n",
    "file = open(\"img/TypeBeam.png\", \"rb\")\n",
    "image = file.read()\n",
    "img = Image(\n",
    "    value=image,\n",
    "    format='png',\n",
    "    width=250,\n",
    "    height=300,\n",
    ")\n",
    "\n",
    "vbox1 = VBox([L, n, d, h3, Min_size, Max_size],layout=Layout(justify_content=\"space-around\"))\n",
    "hbox1 = HBox([img,vbox1])\n",
    "hbox1.layout.justify_content=\"center\"\n",
    "vbox2 = VBox()\n",
    "vbox2.children = [h1,type,hbox1]\n",
    "vbox2.layout = Layout(align_items=\"center\",border='solid 4px')\n",
    "vbox2"
   ]
  },
  {
   "cell_type": "code",
   "execution_count": 8,
   "metadata": {},
   "outputs": [],
   "source": [
    "\n",
    "from functions import *\n",
    "Generate_Model(W,H,t,ta,L,n,d,type)\n",
    "Generate_geo_file(t,ta,type,n,Min_size,Max_size)\n",
    "%run mesh.py"
   ]
  },
  {
   "cell_type": "code",
   "execution_count": 9,
   "metadata": {},
   "outputs": [
    {
     "data": {
      "application/vnd.jupyter.widget-view+json": {
       "model_id": "83eda6aa5aaf4a3bb2bc0fd9375df963",
       "version_major": 2,
       "version_minor": 0
      },
      "text/plain": [
       "Renderer(camera=PerspectiveCamera(aspect=1.3333333333333333, children=(DirectionalLight(intensity=0.25, positi…"
      ]
     },
     "metadata": {},
     "output_type": "display_data"
    }
   ],
   "source": [
    "\n",
    "import pyvista as pv\n",
    "pv.set_jupyter_backend('pythreejs')  \n",
    "mesh = pv.read(\"object.vtk\")\n",
    "p=pv.Plotter()\n",
    "p.add_mesh(mesh,show_edges=True)\n",
    "p.show()"
   ]
  },
  {
   "cell_type": "code",
   "execution_count": 10,
   "metadata": {},
   "outputs": [
    {
     "data": {
      "application/vnd.jupyter.widget-view+json": {
       "model_id": "5bf3072b1ffe4046a8e1eb26dd274e77",
       "version_major": 2,
       "version_minor": 0
      },
      "text/plain": [
       "VBox(children=(HTML(value=\"<h1 align='center'>Analysis with PMEF (kg,m,s)</h1>\"), HBox(children=(VBox(children…"
      ]
     },
     "metadata": {},
     "output_type": "display_data"
    }
   ],
   "source": [
    "\n",
    "from ipywidgets import FloatText,VBox,HBox,HTML,Layout\n",
    "style = {'description_width': 'initial'}\n",
    "h1 = HTML(value=\"\"\"<h1 align='center'>Analysis with PMEF (kg,m,s)</h1>\"\"\")\n",
    "\n",
    "Elas = FloatText(\n",
    "    value=2.1e10,\n",
    "    description='Modulus of elasticity:',\n",
    "    disabled=False, style = style)\n",
    "v = FloatText(\n",
    "    value=0.2,\n",
    "    description=\"Poisson's ratio:\",\n",
    "    disabled=False, style = style)\n",
    "de = FloatText(\n",
    "    value=7850,\n",
    "    description='Density:',\n",
    "    disabled=False, style = style)\n",
    "F = FloatText(\n",
    "    value=-1e5,\n",
    "    description='Evenly distributed force:',\n",
    "    disabled=False, style = style)\n",
    "fix = Dropdown(options=[\"Start\",\"End - Start\"],description=\"Beam embedment type:\",disabled=False,style=style)\n",
    "FS = FloatText(\n",
    "    value=20,\n",
    "    description='Displacement scale factor:',\n",
    "    disabled=False, style = style)\n",
    "\n",
    "vbox1 =VBox([Elas,v,de])\n",
    "vbox2 =VBox([F,fix,FS])\n",
    "hbox1 =HBox([vbox1,vbox2])\n",
    "vbox3 =VBox([h1,hbox1])\n",
    "vbox3.layout = Layout(align_items=\"center\",border='solid 2px')\n",
    "vbox3\n"
   ]
  },
  {
   "cell_type": "code",
   "execution_count": 11,
   "metadata": {},
   "outputs": [],
   "source": [
    "u = Analysis_FEM(W,H,L,Elas,v,de,F,fix, FS)"
   ]
  },
  {
   "cell_type": "code",
   "execution_count": 12,
   "metadata": {},
   "outputs": [
    {
     "data": {
      "application/vnd.jupyter.widget-view+json": {
       "model_id": "3e611b356cc94a2abfe35da2c1697183",
       "version_major": 2,
       "version_minor": 0
      },
      "text/plain": [
       "Dropdown(description='Graphics:', options=('Ux', 'Uy', 'Uz'), style=DescriptionStyle(description_width='initia…"
      ]
     },
     "metadata": {},
     "output_type": "display_data"
    }
   ],
   "source": [
    "\n",
    "graph = Dropdown(options=[\"Ux\",\"Uy\",\"Uz\"],description=\"Graphics:\",disabled=False,style=style)\n",
    "graph"
   ]
  },
  {
   "cell_type": "code",
   "execution_count": 17,
   "metadata": {},
   "outputs": [
    {
     "data": {
      "application/vnd.jupyter.widget-view+json": {
       "model_id": "a2ec503b95454181aa065bd889bc7696",
       "version_major": 2,
       "version_minor": 0
      },
      "text/plain": [
       "AppLayout(children=(VBox(children=(HTML(value='<h3></h3>'), Dropdown(description='Colormap:', options={'BrBG':…"
      ]
     },
     "metadata": {},
     "output_type": "display_data"
    }
   ],
   "source": [
    "\n",
    "results = pv.read(\"result.vtk\")\n",
    "results[\"Ux\"] = u[0::3]\n",
    "results[\"Uy\"] = u[1::3]\n",
    "results[\"Uz\"] = u[2::3]\n",
    "pv.set_jupyter_backend('ipygany')\n",
    "p=pv.Plotter()\n",
    "p.add_mesh(results,scalars=results[graph.value],show_edges=True,cmap=\"RdYlGn\")\n",
    "p.show()\n"
   ]
  },
  {
   "cell_type": "markdown",
   "metadata": {},
   "source": [
    "<body>\n",
    "    <div class=\"content\">\n",
    "    <!-- <input type=\"button\" value=\"Actualizar\" onclick=\"location.reload()\" \n",
    "    style=\"font-family:Arial;font-size:8pt;width:150px;height:30px;\n",
    "    background:#777777;color:#fff444;cursor:pointer;position: absolute;bottom: 0%;\"/> -->\n",
    "    <iframe\n",
    "        width=\"1000\"\n",
    "        height=\"700\"\n",
    "        src=\"https://kitware.github.io/vtk-js/examples/GeometryViewer/index.html\"></iframe></div>\n",
    "</body>\n"
   ]
  }
 ],
 "metadata": {
  "interpreter": {
   "hash": "077d01b4c03390dfa4ccccb6eda5a26e32e1398d569167ca9537428bc9d8d0eb"
  },
  "kernelspec": {
   "display_name": "Python 3.10.4 ('cadquery')",
   "language": "python",
   "name": "python3"
  },
  "language_info": {
   "codemirror_mode": {
    "name": "ipython",
    "version": 3
   },
   "file_extension": ".py",
   "mimetype": "text/x-python",
   "name": "python",
   "nbconvert_exporter": "python",
   "pygments_lexer": "ipython3",
   "version": "3.10.4"
  },
  "orig_nbformat": 4
 },
 "nbformat": 4,
 "nbformat_minor": 2
}
